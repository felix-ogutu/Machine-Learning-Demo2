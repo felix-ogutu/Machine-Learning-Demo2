{
 "cells": [
  {
   "cell_type": "code",
   "execution_count": 1,
   "metadata": {},
   "outputs": [
    {
     "name": "stdout",
     "output_type": "stream",
     "text": [
      "89.76923076923077\n"
     ]
    }
   ],
   "source": [
    "#Calculate the mean\n",
    "import numpy\n",
    "\n",
    "speed = [99,86,87,88,111,86,103,87,94,78,77,85,86]\n",
    "\n",
    "x = numpy.mean(speed)\n",
    "\n",
    "print(x)"
   ]
  },
  {
   "cell_type": "code",
   "execution_count": 2,
   "metadata": {},
   "outputs": [
    {
     "name": "stdout",
     "output_type": "stream",
     "text": [
      "87.0\n"
     ]
    }
   ],
   "source": [
    "#Calculate the median\n",
    "import numpy\n",
    "\n",
    "speed = [99,86,87,88,111,86,103,87,94,78,77,85,86]\n",
    "\n",
    "x = numpy.median(speed)\n",
    "print(x)\n"
   ]
  },
  {
   "cell_type": "code",
   "execution_count": 3,
   "metadata": {},
   "outputs": [
    {
     "name": "stdout",
     "output_type": "stream",
     "text": [
      "ModeResult(mode=array([86]), count=array([3]))\n"
     ]
    }
   ],
   "source": [
    "#Calculate the mode\n",
    "from scipy import stats\n",
    "\n",
    "speed = [99,86,87,88,111,86,103,87,94,78,77,85,86]\n",
    "\n",
    "x = stats.mode(speed)\n",
    "\n",
    "print(x)"
   ]
  },
  {
   "cell_type": "code",
   "execution_count": 4,
   "metadata": {},
   "outputs": [
    {
     "name": "stdout",
     "output_type": "stream",
     "text": [
      "0.9035079029052513\n"
     ]
    }
   ],
   "source": [
    "#Calculate the standard Deviation\n",
    "import numpy\n",
    "\n",
    "speed = [86,87,88,86,87,85,86]\n",
    "\n",
    "x = numpy.std(speed)\n",
    "\n",
    "print(x)"
   ]
  },
  {
   "cell_type": "code",
   "execution_count": 5,
   "metadata": {},
   "outputs": [
    {
     "name": "stdout",
     "output_type": "stream",
     "text": [
      "1432.2448979591834\n"
     ]
    }
   ],
   "source": [
    "#Calculate the variance\n",
    "import numpy\n",
    "\n",
    "speed = [32,111,138,28,59,77,97]\n",
    "\n",
    "x = numpy.var(speed)\n",
    "\n",
    "print(x)\n"
   ]
  },
  {
   "cell_type": "code",
   "execution_count": 6,
   "metadata": {},
   "outputs": [
    {
     "name": "stdout",
     "output_type": "stream",
     "text": [
      "43.0\n"
     ]
    }
   ],
   "source": [
    "#Calculate the percentile\n",
    "import numpy\n",
    "\n",
    "ages = [5,31,43,48,50,41,7,11,15,39,80,82,32,2,8,6,25,36,27,61,31]\n",
    "\n",
    "x = numpy.percentile(ages, 75)\n",
    "\n",
    "print(x)"
   ]
  },
  {
   "cell_type": "code",
   "execution_count": 7,
   "metadata": {},
   "outputs": [
    {
     "name": "stdout",
     "output_type": "stream",
     "text": [
      "[1.53646308 4.78811856 4.57852682 4.76470519 1.549894   3.45724232\n",
      " 4.93554405 1.60586027 4.20056444 0.4416576  3.3247056  3.1806901\n",
      " 3.53695387 2.93242264 1.81524051 1.45198774 3.988478   3.09378052\n",
      " 1.21082024 2.72139725 2.23337577 1.90159156 3.42294454 4.64048491\n",
      " 2.00330931 4.34902522 4.60612909 4.79146625 4.77472721 4.37955385\n",
      " 1.73756458 3.1178146  2.72109754 0.13167002 2.13577253 4.42912296\n",
      " 3.91795682 0.79829447 2.4869624  1.20074204 3.96891173 2.7134676\n",
      " 3.30497681 3.33939678 2.5271159  1.50620118 1.17145863 4.56610285\n",
      " 4.6285115  4.78161093 1.55927465 4.36836854 2.49242547 3.47413003\n",
      " 3.74845428 0.96306854 0.97687795 1.82481746 1.51871905 3.19702716\n",
      " 2.00469076 3.53779484 0.91307886 4.32520795 2.61663985 3.58844304\n",
      " 0.94658527 1.91306584 0.6638915  0.36490813 0.17637443 2.27155872\n",
      " 1.64276402 2.6656833  1.93362394 2.04166581 0.92179276 3.80896589\n",
      " 1.96066951 1.79130338 4.65072077 2.13791345 3.25952454 0.74197625\n",
      " 0.71927936 2.9110414  1.06477424 3.8729287  3.27533511 2.69464631\n",
      " 4.62795871 1.18734398 1.76727492 4.35780798 3.42746971 4.95606682\n",
      " 2.03432271 2.58783018 4.59781628 3.2611615  3.62055705 4.79368082\n",
      " 1.37748131 2.49478554 1.25520148 2.07506494 2.68280169 0.58301335\n",
      " 3.88437285 3.63059512 4.67193121 0.73161412 3.46371475 4.66747496\n",
      " 4.54713133 0.28948062 3.27153496 0.9781962  1.29934312 1.49669623\n",
      " 2.85643137 0.02662198 3.66242037 4.83815674 0.19304661 3.87285533\n",
      " 1.24953829 1.28950957 3.43733936 4.23003293 4.7667286  1.78985473\n",
      " 0.51151465 0.91954872 1.07076419 1.78349156 0.77666882 0.38288663\n",
      " 3.25488796 4.37570754 4.69670747 0.68445487 3.48016247 3.91248197\n",
      " 3.56813916 2.72349382 3.07661116 2.02965997 0.57072908 0.90655693\n",
      " 1.63195802 2.69998948 4.96323499 0.60175538 3.99250184 2.81914329\n",
      " 2.84534131 2.11983802 3.24955433 4.81882341 4.05894876 3.3702971\n",
      " 1.11983134 0.96012917 4.98851916 4.43393432 1.93410768 1.05425342\n",
      " 1.19481994 3.78479787 4.73037387 3.68321445 1.69986474 2.81410508\n",
      " 4.79749805 0.18587662 2.92620396 3.53295859 0.64776512 4.85804406\n",
      " 1.00265418 2.50432753 2.94060828 2.13425563 0.94457027 1.42803132\n",
      " 1.80386198 3.21823797 3.29279045 3.95922723 0.03380086 2.87307142\n",
      " 4.86062036 2.80778815 1.40461872 0.06029831 1.1917492  1.65038914\n",
      " 1.72431878 2.66713911 3.52189563 0.47650016 3.09536186 2.63058652\n",
      " 2.37772171 3.18757599 2.17077053 0.86853725 3.13698769 2.56621124\n",
      " 3.05917569 2.18936666 0.36478688 0.04448822 4.26208866 0.54458437\n",
      " 3.10961714 4.84652211 0.33575238 0.66626911 3.19979099 0.29827723\n",
      " 1.36456844 0.46266726 2.30733455 0.32742979 0.81437783 4.34965425\n",
      " 2.41756749 3.78093618 3.55421445 4.94478939 0.11908066 1.4124787\n",
      " 1.37086864 0.303227   4.69302111 2.55252394 0.50709157 3.01662518\n",
      " 2.46334289 4.75459205 4.77152427 0.27778084 1.09286214 3.39349994\n",
      " 3.78204799 3.06134655 0.3947803  4.99477155]\n"
     ]
    }
   ],
   "source": [
    "#Create Random Data Sets\n",
    "import numpy\n",
    "\n",
    "x = numpy.random.uniform(0.0, 5.0, 250)\n",
    "\n",
    "print(x)"
   ]
  },
  {
   "cell_type": "code",
   "execution_count": 8,
   "metadata": {},
   "outputs": [
    {
     "data": {
      "image/png": "[encoded data removed]",
      "text/plain": [
       "<Figure size 432x288 with 1 Axes>"
      ]
     },
     "metadata": {
      "needs_background": "light"
     },
     "output_type": "display_data"
    }
   ],
   "source": [
    "#Histogram\n",
    "import numpy\n",
    "import matplotlib.pyplot as plt\n",
    "\n",
    "x = numpy.random.uniform(0.0, 5.0, 250)\n",
    "\n",
    "plt.hist(x, 5)\n",
    "plt.show()"
   ]
  },
  {
   "cell_type": "code",
   "execution_count": 9,
   "metadata": {},
   "outputs": [
    {
     "data": {
      "image/png": "[encoded data removed]",
      "text/plain": [
       "<Figure size 432x288 with 1 Axes>"
      ]
     },
     "metadata": {
      "needs_background": "light"
     },
     "output_type": "display_data"
    }
   ],
   "source": [
    "#Dealing with the normal Data\n",
    "import numpy\n",
    "import matplotlib.pyplot as plt\n",
    "\n",
    "x = numpy.random.normal(5.0, 1.0, 100000)\n",
    "\n",
    "plt.hist(x, 100)\n",
    "plt.show()"
   ]
  },
  {
   "cell_type": "code",
   "execution_count": 10,
   "metadata": {},
   "outputs": [
    {
     "data": {
      "image/png": "[encoded data removed]",
      "text/plain": [
       "<Figure size 432x288 with 1 Axes>"
      ]
     },
     "metadata": {
      "needs_background": "light"
     },
     "output_type": "display_data"
    }
   ],
   "source": [
    "#Scatter Plot\n",
    "import matplotlib.pyplot as plt\n",
    "\n",
    "x = [5,7,8,7,2,17,2,9,4,11,12,9,6]\n",
    "y = [99,86,87,88,111,86,103,87,94,78,77,85,86]\n",
    "\n",
    "plt.scatter(x, y)\n",
    "plt.show()\n"
   ]
  },
  {
   "cell_type": "code",
   "execution_count": 11,
   "metadata": {},
   "outputs": [
    {
     "data": {
      "image/png": "[encoded data removed]",
      "text/plain": [
       "<Figure size 432x288 with 1 Axes>"
      ]
     },
     "metadata": {
      "needs_background": "light"
     },
     "output_type": "display_data"
    }
   ],
   "source": [
    "# Linear Regression\n",
    "import matplotlib.pyplot as plt\n",
    "from scipy import stats\n",
    "\n",
    "x = [5,7,8,7,2,17,2,9,4,11,12,9,6]\n",
    "y = [99,86,87,88,111,86,103,87,94,78,77,85,86]\n",
    "\n",
    "slope, intercept, r, p, std_err = stats.linregress(x, y)\n",
    "\n",
    "def myfunc(x):\n",
    "  return slope * x + intercept\n",
    "\n",
    "mymodel = list(map(myfunc, x))\n",
    "\n",
    "plt.scatter(x, y)\n",
    "plt.plot(x, mymodel)\n",
    "plt.show()"
   ]
  },
  {
   "cell_type": "code",
   "execution_count": 12,
   "metadata": {},
   "outputs": [
    {
     "name": "stdout",
     "output_type": "stream",
     "text": [
      "85.59308314937454\n"
     ]
    }
   ],
   "source": [
    "# Predict Future Values\n",
    "from scipy import stats\n",
    "\n",
    "x = [5,7,8,7,2,17,2,9,4,11,12,9,6]\n",
    "y = [99,86,87,88,111,86,103,87,94,78,77,85,86]\n",
    "\n",
    "slope, intercept, r, p, std_err = stats.linregress(x, y)\n",
    "\n",
    "def myfunc(x):\n",
    "  return slope * x + intercept\n",
    "\n",
    "speed = myfunc(10)\n",
    "\n",
    "print(speed)"
   ]
  },
  {
   "cell_type": "code",
   "execution_count": null,
   "metadata": {},
   "outputs": [],
   "source": []
  }
 ],
 "metadata": {
  "kernelspec": {
   "display_name": "Python 3",
   "language": "python",
   "name": "python3"
  },
  "language_info": {
   "codemirror_mode": {
    "name": "ipython",
    "version": 3
   },
   "file_extension": ".py",
   "mimetype": "text/x-python",
   "name": "python",
   "nbconvert_exporter": "python",
   "pygments_lexer": "ipython3",
   "version": "3.7.6"
  }
 },
 "nbformat": 4,
 "nbformat_minor": 4
}
